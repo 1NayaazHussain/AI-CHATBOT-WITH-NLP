import spacy
import random
from nltk.chat.util import Chat, reflections
import nltk
from datetime import datetime

nltk.data.path = ['C:\\Users\\nayaa\\AppData\\Roaming\\nltk_data']  # Or your desired path
nltk.download('all', download_dir='C:\\Users\\nayaa\\AppData\\Roaming\\nltk_data') # Or your desired pat

# Download NLTK data (only needed first time)
nltk.download('punkt')

# Load spaCy model
nlp = spacy.load('en_core_web_sm')

# Define responses
GREETING_INPUTS = ("hello", "hi", "greetings", "sup", "what's up", "hey")
GREETING_RESPONSES = ["Hello!", "Hi there!", "Greetings!", "Hi! How can I help you?"]

GENERAL_RESPONSES = {
    "time": ["The current time is {time}", "It's {time} now"],
    "date": ["Today is {date}", "The date is {date}"],
    "weather": ["I don't have weather data right now", "You might want to check a weather service"],
    "name": ["I'm a chatbot", "You can call me ChatBot"],
    "help": ["I can answer questions about time, date, and more. Just ask!"]
}

# Additional patterns for NLTK chat
pairs = [
    [r"my name is (.*)", ["Hello %1! How can I help you today?"]],
    [r"what is your name?", ["I'm a chatbot. You can call me ChatBot!"]],
    [r"how are you?", ["I'm functioning normally. How about you?"]],
    [r"(.*) (good|great|fine)", ["That's wonderful to hear!", "Excellent!"]],
    [r"(.*) (bad|sad|terrible)", ["I'm sorry to hear that", "Would you like to talk about it?"]],
    [r"bye|goodbye", ["Goodbye!", "See you later!", "Have a nice day!"]]
]

class NLPChatBot:
    def __init__(self):
        self.nltk_chat = Chat(pairs, reflections)
        self.name = "ChatBot"
    
    def get_greeting_response(self, user_input):
        for word in user_input.split():
            if word.lower() in GREETING_INPUTS:
                return random.choice(GREETING_RESPONSES)
        return None
    
    def get_response(self, user_input):
        # Check for greeting first
        greeting_response = self.get_greeting_response(user_input)
        if greeting_response:
            return greeting_response
        
        # Process with spaCy
        doc = nlp(user_input.lower())
        
        # Extract key entities and intents
        intent = None
        entities = []
        
        for token in doc:
            if token.text in ["time", "date", "weather", "name", "help"]:
                intent = token.text
        
        # Check for time/date questions
        if not intent:
            if "time" in user_input.lower() or "current hour" in user_input.lower():
                intent = "time"
            elif "date" in user_input.lower() or "today" in user_input.lower():
                intent = "date"
            elif "weather" in user_input.lower() or "temperature" in user_input.lower():
                intent = "weather"
            elif "name" in user_input.lower():
                intent = "name"
            elif "help" in user_input.lower():
                intent = "help"
        
        # Generate response
        if intent:
            if intent == "time":
                current_time = datetime.now().strftime("%H:%M:%S")
                return random.choice(GENERAL_RESPONSES[intent]).format(time=current_time)
            elif intent == "date":
                current_date = datetime.now().strftime("%Y-%m-%d")
                return random.choice(GENERAL_RESPONSES[intent]).format(date=current_date)
            else:
                return random.choice(GENERAL_RESPONSES[intent])
        
        # Fall back to NLTK pattern matching
        return self.nltk_chat.respond(user_input)

def main():
    print("ChatBot: Hello! I'm a simple chatbot. Type 'bye' to exit.")
    chatbot = NLPChatBot()
    
    while True:
        user_input = input("You: ")
        if user_input.lower() in ['exit', 'quit', 'bye']:
            print("ChatBot: Goodbye!")
            break
        
        response = chatbot.get_response(user_input)
        if response:
            print(f"ChatBot: {response}")
        else:
            print("ChatBot: I didn't understand that. Could you rephrase?")

if __name__ == "__main__":
    # Install required models
    try:
        nlp = spacy.load('en_core_web_sm')
    except OSError:
        print("Downloading spaCy model (this may take a while)...")
        from spacy.cli import download
        download('en_core_web_sm')
        nlp = spacy.load('en_core_web_sm')
    
    main()
